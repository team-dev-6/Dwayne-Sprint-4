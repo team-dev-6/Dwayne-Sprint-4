{
 "cells": [
  {
   "cell_type": "code",
   "execution_count": 1,
   "metadata": {},
   "outputs": [
    {
     "name": "stdout",
     "output_type": "stream",
     "text": [
      "{'_id': ObjectId('5e5773b57d30b905cc522ed1'), 'Item_No': 'A002', 'Food_Item': 'Lays Salted Potato Chips', 'Category': 'Snacks', 'Size': '125g', 'Price': '19.49', 'Stock_Quantity': '11', 'Stock_Value': '214.39', 'Expiry_Date': '2020/11/22', 'Reorder_Time_In_Days': '53', 'Quantity_In_Reorder': '125'}\n",
      "{'_id': ObjectId('5e5773b57d30b905cc522ed2'), 'Item_No': 'A003', 'Food_Item': 'Coca-Cola Original Bottle', 'Category': 'Beverages', 'Size': '2L', 'Price': '22.49', 'Stock_Quantity': '6', 'Stock_Value': '134.94', 'Expiry_Date': '2020/09/05', 'Reorder_Time_In_Days': '10', 'Quantity_In_Reorder': '200'}\n",
      "{'_id': ObjectId('5e5773b57d30b905cc522ed3'), 'Item_No': 'A004', 'Food_Item': '\"Fanta Orange Bottle', 'Category': 'Beverages\"', 'Size': '2L', 'Price': '2L', 'Stock_Quantity': '22.49', 'Stock_Value': '4', 'Expiry_Date': '89.96', 'Reorder_Time_In_Days': '2020/09/13', 'Quantity_In_Reorder': '5'}\n",
      "{'_id': ObjectId('5e5773b57d30b905cc522ed4'), 'Item_No': 'A005', 'Food_Item': 'Cadbury Dairy Milk Chocolate Slab', 'Category': 'Chocolates', 'Size': '80g', 'Price': '15.99', 'Stock_Quantity': '19', 'Stock_Value': '303.81', 'Expiry_Date': '2020/06/03', 'Reorder_Time_In_Days': '14', 'Quantity_In_Reorder': '85'}\n",
      "{'_id': ObjectId('5e5773b57d30b905cc522ed5'), 'Item_No': 'A006', 'Food_Item': 'Nestle Quality Street Chocolates', 'Category': 'Chocolates', 'Size': '500g', 'Price': '99.99', 'Stock_Quantity': '6', 'Stock_Value': '599.94', 'Expiry_Date': '2020/04/28', 'Reorder_Time_In_Days': '61', 'Quantity_In_Reorder': '50'}\n",
      "{'_id': ObjectId('5e5773b57d30b905cc522ed6'), 'Item_No': 'A007', 'Food_Item': 'Nescafe Gold Roasted Coffee', 'Category': 'Coffee', 'Size': '200g', 'Price': '109.99', 'Stock_Quantity': '12', 'Stock_Value': '1319.88', 'Expiry_Date': '2021/02/18', 'Reorder_Time_In_Days': '61', 'Quantity_In_Reorder': '100'}\n",
      "{'_id': ObjectId('5e5773b57d30b905cc522ed7'), 'Item_No': 'A008', 'Food_Item': 'Jacobs Kronung Instant Coffee', 'Category': 'Coffee', 'Size': '200g', 'Price': '109.99', 'Stock_Quantity': '15', 'Stock_Value': '1649.85', 'Expiry_Date': '2020/10/11', 'Reorder_Time_In_Days': '46', 'Quantity_In_Reorder': '100'}\n",
      "{'_id': ObjectId('5e5773b57d30b905cc522ed8'), 'Item_No': 'A009', 'Food_Item': 'All Gold Tomato Sauce', 'Category': 'Sauces', 'Size': '700ml', 'Price': '30.99', 'Stock_Quantity': '2', 'Stock_Value': '61.98', 'Expiry_Date': '2020/12/25', 'Reorder_Time_In_Days': '7', 'Quantity_In_Reorder': '250'}\n",
      "{'_id': ObjectId('5e5773b57d30b905cc522ed9'), 'Item_No': 'A010', 'Food_Item': 'Crosse & Blackwell Mayonnaise', 'Category': 'Sauces', 'Size': '750g', 'Price': '33.99', 'Stock_Quantity': '4', 'Stock_Value': '135.96', 'Expiry_Date': '2020/07/08', 'Reorder_Time_In_Days': '3', 'Quantity_In_Reorder': '125'}\n",
      "{'_id': ObjectId('5e5773b57d30b905cc522eda'), 'Item_No': 'A011', 'Food_Item': 'Nescafe Gold Cappuccino Sachets', 'Category': 'Coffee', 'Size': '18g', 'Price': '49.99', 'Stock_Quantity': '25', 'Stock_Value': '1249.75', 'Expiry_Date': '2021/03/08', 'Reorder_Time_In_Days': '55', 'Quantity_In_Reorder': '70'}\n",
      "{'_id': ObjectId('5e5773b57d30b905cc522edb'), 'Item_No': 'A012', 'Food_Item': 'Nestle Hot Chocolate', 'Category': 'Coffee', 'Size': '500g', 'Price': '59.99', 'Stock_Quantity': '13', 'Stock_Value': '779.87', 'Expiry_Date': '2020/08/04', 'Reorder_Time_In_Days': '42', 'Quantity_In_Reorder': '30'}\n",
      "{'_id': ObjectId('5e5773b57d30b905cc522edc'), 'Item_No': 'A013', 'Food_Item': 'Nestle Nesquik Chocolate Flavoured Drink ', 'Category': 'Beverages', 'Size': '500g', 'Price': '46.99', 'Stock_Quantity': '5', 'Stock_Value': '234.95', 'Expiry_Date': '2020/12/18', 'Reorder_Time_In_Days': '68', 'Quantity_In_Reorder': '22'}\n",
      "{'_id': ObjectId('5e5773b57d30b905cc522edd'), 'Item_No': 'A014', 'Food_Item': \"Mrs H.S.Ball's Original Chutney\", 'Category': 'Sauces', 'Size': '470g', 'Price': '29.99', 'Stock_Quantity': '21', 'Stock_Value': '629.79', 'Expiry_Date': '2020/10/21', 'Reorder_Time_In_Days': '21', 'Quantity_In_Reorder': '43'}\n",
      "{'_id': ObjectId('5e5773b57d30b905cc522ede'), 'Item_No': 'A015', 'Food_Item': \"Hellmann's Original Mayonnaise\", 'Category': 'Sauces', 'Size': '394g', 'Price': '29.99', 'Stock_Quantity': '10', 'Stock_Value': '299.9', 'Expiry_Date': '2020/06/15', 'Reorder_Time_In_Days': '8', 'Quantity_In_Reorder': '15'}\n",
      "{'_id': ObjectId('5e5773b57d30b905cc522edf'), 'Item_No': 'A016', 'Food_Item': 'Wellingtons Sweet Chilli Sauce', 'Category': 'Sauces', 'Size': '700ml', 'Price': '43.99', 'Stock_Quantity': '18', 'Stock_Value': '791.82', 'Expiry_Date': '2020/05/26', 'Reorder_Time_In_Days': '11', 'Quantity_In_Reorder': '19'}\n",
      "{'_id': ObjectId('5e5773b57d30b905cc522ee0'), 'Item_No': 'A017', 'Food_Item': \"Cook 'n Bake Original Non-Stick Cooking Spray\", 'Category': 'Oils & Vinegars', 'Size': '300ml', 'Price': '42.99', 'Stock_Quantity': '9', 'Stock_Value': '386.91', 'Expiry_Date': '2021/03/14', 'Reorder_Time_In_Days': '15', 'Quantity_In_Reorder': '27'}\n",
      "{'_id': ObjectId('5e5773b57d30b905cc522ee1'), 'Item_No': 'A018', 'Food_Item': 'Cerebos Iodated Table Salt', 'Category': 'Herbs & Spices', 'Size': '500g', 'Price': '19.99', 'Stock_Quantity': '35', 'Stock_Value': '699.65', 'Expiry_Date': '2020/10/06', 'Reorder_Time_In_Days': '7', 'Quantity_In_Reorder': '38'}\n",
      "{'_id': ObjectId('5e5773b57d30b905cc522ee2'), 'Item_No': 'A019', 'Food_Item': 'Koo Baked Beans', 'Category': '\"Cans', 'Size': ' Jars & Packaged Foods\"', 'Price': '410g', 'Stock_Quantity': '11.99', 'Stock_Value': '55', 'Expiry_Date': '659.45', 'Reorder_Time_In_Days': '2021/01/27', 'Quantity_In_Reorder': '12'}\n",
      "{'_id': ObjectId('5e5773b57d30b905cc522ee3'), 'Item_No': 'A020', 'Food_Item': 'Koo Whole Kernel Corn in Brine', 'Category': '\"Cans', 'Size': ' Jars & Packaged Foods\"', 'Price': '410g', 'Stock_Quantity': '17.99', 'Stock_Value': '40', 'Expiry_Date': '719.6', 'Reorder_Time_In_Days': '2021/02/11', 'Quantity_In_Reorder': '14'}\n",
      "{'_id': ObjectId('5e5773b57d30b905cc522ee4'), 'Item_No': 'A021', 'Food_Item': 'Koo Peach Slices in Syrup', 'Category': '\"Cans', 'Size': ' Jars & Packaged Foods\"', 'Price': '410g', 'Stock_Quantity': '17.99', 'Stock_Value': '38', 'Expiry_Date': '683.62', 'Reorder_Time_In_Days': '2021/03/30', 'Quantity_In_Reorder': '25'}\n",
      "{'_id': ObjectId('5e5773b57d30b905cc522ee5'), 'Item_No': 'A022', 'Food_Item': 'Tastic Rice', 'Category': '\"Pasta', 'Size': ' Rice & Grains\"', 'Price': '2Kg', 'Stock_Quantity': '29.99', 'Stock_Value': '75', 'Expiry_Date': '2249.25', 'Reorder_Time_In_Days': '2020/09/02', 'Quantity_In_Reorder': '22'}\n",
      "{'_id': ObjectId('5e5773b57d30b905cc522ee6'), 'Item_No': 'A023', 'Food_Item': 'Tastic Basmati Rice', 'Category': '\"Pasta', 'Size': ' Rice & Grains\"', 'Price': '2Kg', 'Stock_Quantity': '109.99', 'Stock_Value': '31', 'Expiry_Date': '3409.69', 'Reorder_Time_In_Days': '2021/04/17', 'Quantity_In_Reorder': '31'}\n",
      "{'_id': ObjectId('5e5773b57d30b905cc522ee7'), 'Item_No': 'A024', 'Food_Item': 'Bakers Salticrax ', 'Category': '\"Biscuits', 'Size': ' Rusks & Crackers\"', 'Price': '200g', 'Stock_Quantity': '23.99', 'Stock_Value': '4', 'Expiry_Date': '95.96', 'Reorder_Time_In_Days': '2020/07/19', 'Quantity_In_Reorder': '3'}\n",
      "{'_id': ObjectId('5e5773b57d30b905cc522ee8'), 'Item_No': 'A025', 'Food_Item': 'Bakers Provita Wholewheat Crispbread 4s', 'Category': '\"Biscuits', 'Size': ' Rusks & Crackers\"', 'Price': '125g', 'Stock_Quantity': '42.99', 'Stock_Value': '30', 'Expiry_Date': '1289.7', 'Reorder_Time_In_Days': '2020/06/08', 'Quantity_In_Reorder': '9'}\n",
      "{'_id': ObjectId('5e5773b57d30b905cc522ee9'), 'Item_No': 'A026', 'Food_Item': 'Bakers Original Romany Creams', 'Category': '\"Biscuits', 'Size': ' Rusks & Crackers\"', 'Price': '200g', 'Stock_Quantity': '25.99', 'Stock_Value': '12', 'Expiry_Date': '311.88', 'Reorder_Time_In_Days': '2020/03/29', 'Quantity_In_Reorder': '11'}\n",
      "{'_id': ObjectId('5e5773b57d30b905cc522eea'), 'Item_No': 'A027', 'Food_Item': 'Oreo Original', 'Category': '\"Biscuits', 'Size': ' Rusks & Crackers\"', 'Price': '16Pk', 'Stock_Quantity': '19.99', 'Stock_Value': '8', 'Expiry_Date': '159.92', 'Reorder_Time_In_Days': '2020/08/16', 'Quantity_In_Reorder': '18'}\n",
      "{'_id': ObjectId('5e5773b57d30b905cc522eeb'), 'Item_No': 'A028', 'Food_Item': 'Jungle Oats', 'Category': 'Breakfast Cereals & Bars', 'Size': '1Kg', 'Price': '34.99', 'Stock_Quantity': '14', 'Stock_Value': '489.86', 'Expiry_Date': '2020/10/15', 'Reorder_Time_In_Days': '23', 'Quantity_In_Reorder': '24'}\n",
      "{'_id': ObjectId('5e5773b57d30b905cc522eec'), 'Item_No': 'A029', 'Food_Item': 'Bokomo Weet-Bix', 'Category': 'Breakfast Cereals & Bars', 'Size': '450g', 'Price': '24.99', 'Stock_Quantity': '28', 'Stock_Value': '699.72', 'Expiry_Date': '2021/01/23', 'Reorder_Time_In_Days': '33', 'Quantity_In_Reorder': '42'}\n",
      "{'_id': ObjectId('5e5773b57d30b905cc522eed'), 'Item_No': 'A030', 'Food_Item': \"Kellogg's Coco Pops\", 'Category': 'Breakfast Cereals & Bars', 'Size': '350g', 'Price': '39.99', 'Stock_Quantity': '31', 'Stock_Value': '1239.69', 'Expiry_Date': '2020/05/10', 'Reorder_Time_In_Days': '15', 'Quantity_In_Reorder': '33'}\n",
      "{'_id': ObjectId('5e5773b57d30b905cc522eee'), 'Item_No': 'A031', 'Food_Item': \"Kellogg's Corn Flakes\", 'Category': 'Breakfast Cereals & Bars', 'Size': '500g', 'Price': '35.99', 'Stock_Quantity': '45', 'Stock_Value': '1619.55', 'Expiry_Date': '2020/08/04', 'Reorder_Time_In_Days': '12', 'Quantity_In_Reorder': '57'}\n",
      "{'_id': ObjectId('5e5773b57d30b905cc522eef'), 'Item_No': 'A032', 'Food_Item': \"Kellogg's Rice Krispies\", 'Category': 'Breakfast Cereals & Bars', 'Size': '400g', 'Price': '39.99', 'Stock_Quantity': '48', 'Stock_Value': '1919.52', 'Expiry_Date': '2020/11/22', 'Reorder_Time_In_Days': '14', 'Quantity_In_Reorder': '51'}\n",
      "{'_id': ObjectId('5e5773b57d30b905cc522ef0'), 'Item_No': 'A033', 'Food_Item': \"Kellogg's Corn Flakes\", 'Category': 'Breakfast Cereals & Bars', 'Size': '1Kg', 'Price': '62.99', 'Stock_Quantity': '51', 'Stock_Value': '3212.49', 'Expiry_Date': '2021/01/01', 'Reorder_Time_In_Days': '14', 'Quantity_In_Reorder': '70'}\n",
      "{'_id': ObjectId('5e5773b57d30b905cc522ef1'), 'Item_No': 'A034', 'Food_Item': 'Sunlight Original Dishwashing Liquid ', 'Category': 'Household & Cleaning', 'Size': '750ml', 'Price': '29.99', 'Stock_Quantity': '41', 'Stock_Value': '1229.59', 'Expiry_Date': '2021/06/12', 'Reorder_Time_In_Days': '10', 'Quantity_In_Reorder': '49'}\n",
      "{'_id': ObjectId('5e5773b57d30b905cc522ef2'), 'Item_No': 'A035', 'Food_Item': 'Domestos Lavender Blast Thick Bleach', 'Category': 'Household & Cleaning', 'Size': '750ml', 'Price': '29.99', 'Stock_Quantity': '19', 'Stock_Value': '569.81', 'Expiry_Date': '2020/07/07', 'Reorder_Time_In_Days': '28', 'Quantity_In_Reorder': '28'}\n",
      "{'_id': ObjectId('5e5773b57d30b905cc522ef3'), 'Item_No': 'A036', 'Food_Item': 'Handy Andy Lemon Fresh Cream Detergent', 'Category': 'Household & Cleaning', 'Size': '750ml', 'Price': '25.99', 'Stock_Quantity': '17', 'Stock_Value': '441.83', 'Expiry_Date': '2021/02/19', 'Reorder_Time_In_Days': '35', 'Quantity_In_Reorder': '16'}\n",
      "{'_id': ObjectId('5e5773b57d30b905cc522ef4'), 'Item_No': 'A037', 'Food_Item': 'Omo Auto Washing Powder', 'Category': 'Household & Cleaning', 'Size': '2Kg', 'Price': '61.99', 'Stock_Quantity': '33', 'Stock_Value': '2045.67', 'Expiry_Date': '2021/03/27', 'Reorder_Time_In_Days': '37', 'Quantity_In_Reorder': '12'}\n",
      "{'_id': ObjectId('5e5773b57d30b905cc522ef5'), 'Item_No': 'A038', 'Food_Item': 'Mr Min Lavender Multi Surface Cleaner', 'Category': 'Household & Cleaning', 'Size': '400ml', 'Price': '49.99', 'Stock_Quantity': '41', 'Stock_Value': '2049.59', 'Expiry_Date': '2020/10/09', 'Reorder_Time_In_Days': '43', 'Quantity_In_Reorder': '7'}\n",
      "{'_id': ObjectId('5e5773b57d30b905cc522ef6'), 'Item_No': 'A039', 'Food_Item': 'Mr Muscle Mountain Fresh Tile Cleaner', 'Category': 'Household & Cleaning', 'Size': '750ml', 'Price': '37.99', 'Stock_Quantity': '6', 'Stock_Value': '227.94', 'Expiry_Date': '2020/08/11', 'Reorder_Time_In_Days': '21', 'Quantity_In_Reorder': '22'}\n",
      "{'_id': ObjectId('5e5773b57d30b905cc522ef7'), 'Item_No': 'A040', 'Food_Item': 'Glade Secrets Clean Linen Air Freshener', 'Category': 'Household & Cleaning', 'Size': '180ml', 'Price': '16.99', 'Stock_Quantity': '26', 'Stock_Value': '441.74', 'Expiry_Date': '2020/04/21', 'Reorder_Time_In_Days': '26', 'Quantity_In_Reorder': '35'}\n",
      "{'_id': ObjectId('5e5773b57d30b905cc522ef8'), 'Item_No': '', 'Food_Item': None, 'Category': None, 'Size': None, 'Price': None, 'Stock_Quantity': None, 'Stock_Value': None, 'Expiry_Date': None, 'Reorder_Time_In_Days': None, 'Quantity_In_Reorder': None}\n"
     ]
    }
   ],
   "source": [
    "# 1. created a mongo database and named it data tracker.\n",
    "\n",
    "# 2. added my SPRINT 3 products file to MongoDB I created using the import csv method\n",
    "\n",
    "import json\n",
    "import pymongo\n",
    "import pandas as pd\n",
    "myclient = pymongo.MongoClient(\"mongodb://localhost:27017/\")\n",
    "mydb = myclient[\"data_tracker\"]\n",
    "\n",
    "# Import table in Mongo and use find to see table info\n",
    "\n",
    "mycol = mydb[\"food_table\"]\n",
    "for x in mycol.find():\n",
    "    print(x)"
   ]
  },
  {
   "cell_type": "code",
   "execution_count": 2,
   "metadata": {},
   "outputs": [],
   "source": [
    "# 3. created a collection for my top 3 products in MongoDB based on most sold items\n",
    "\n",
    "mycol = mydb[\"data_tracker\"]\n",
    "mycol = mydb[\"most_sold\"]\n",
    "mylist = [\n",
    "  { \"Item_No\": \"A004\", \"Food_Item\": \"Fanta Orange Bottle\", \"Category\": \"Beverages\", \"Size\": \"2L\", \"Price\": 22.49, \"Stock_Quantity\": 4, \"Stock_Value\": 89.96, \"Expiry_Date\": \"2020/09/13\", \"Reorder_Time_In_Days\": 5, \"Quantity_In_Reorder\": 185},             \n",
    "  { \"Item_No\": \"A009\", \"Food_Item\": \"All Gold Tomato Sauce\", \"Category\": \"Sauces\", \"Size\": \"700ml\", \"Price\": 30.99, \"Stock_Quantity\": 2, \"Stock_Value\": 61.98, \"Expiry_Date\": \"2020/12/25\", \"Reorder_Time_In_Days\": 7, \"Quantity_In_Reorder\": 250},\n",
    "  { \"Item_No\": \"A010\", \"Food_Item\": \"Crosse & Blackwell Mayonnaise\", \"Category\": \"Sauces\", \"Size\": \"750g\", \"Price\": 33.99, \"Stock_Quantity\": 4, \"Stock_Value\": 135.96, \"Expiry_Date\": \"2020/07/08\", \"Reorder_Time_In_Days\": 3, \"Quantity_In_Reorder\": 125}\n",
    "    ]\n",
    "\n",
    "x = mycol.insert_many(mylist)"
   ]
  },
  {
   "cell_type": "code",
   "execution_count": 3,
   "metadata": {},
   "outputs": [
    {
     "name": "stdout",
     "output_type": "stream",
     "text": [
      "<pymongo.results.InsertManyResult object at 0x000001CA972E5368>\n"
     ]
    }
   ],
   "source": [
    "# 4. inserted multiple documents into my collection in question 3\n",
    "\n",
    "mycol = mydb[\"data_tracker\"]\n",
    "mycol = mydb[\"most_sold\"]\n",
    "mylist = [\n",
    "  { \"Item_No\": \"A041\", \"Food_Item\": \"Double Ply Super Absorbent Roller Towel\", \"Category\": \"Household & Cleaning\", \"Size\": \"2Pk\", \"Price\": 22.99, \"Stock_Quantity\": 14, \"Stock_Value\": 321.86, \"Expiry_Date\": \"2024/05/19\", \"Reorder_Time_In_Days\": 3, \"Quantity_In_Reorder\": 18},\n",
    "  { \"Item_No\": \"A042\", \"Food_Item\": \"Bulk Super Soft 2 Ply Toilet Paper\", \"Category\": \"Household & Cleaning\", \"Size\": \"18 Pk\", \"Price\": 109.99, \"Stock_Quantity\": 8, \"Stock_Value\": 879.92, \"Expiry_Date\": \"2025/11/06\", \"Reorder_Time_In_Days\": 5, \"Quantity_In_Reorder\": 24}    \n",
    "    ]\n",
    "x = mycol.insert_many(mylist)\n",
    "\n",
    "#print list of the _id values of the inserted documents:\n",
    "print(x)"
   ]
  },
  {
   "cell_type": "code",
   "execution_count": 5,
   "metadata": {},
   "outputs": [
    {
     "name": "stdout",
     "output_type": "stream",
     "text": [
      "{'_id': ObjectId('5e5773b57d30b905cc522ef7'), 'Item_No': 'A040', 'Food_Item': 'Glade Secrets Clean Linen Air Freshener', 'Category': 'Household & Cleaning', 'Size': '180ml', 'Price': '16.99', 'Stock_Quantity': '26', 'Stock_Value': '441.74', 'Expiry_Date': '2020/04/21', 'Reorder_Time_In_Days': '26', 'Quantity_In_Reorder': '35'}\n",
      "{'_id': ObjectId('5e5773b57d30b905cc522ef6'), 'Item_No': 'A039', 'Food_Item': 'Mr Muscle Mountain Fresh Tile Cleaner', 'Category': 'Household & Cleaning', 'Size': '750ml', 'Price': '37.99', 'Stock_Quantity': '6', 'Stock_Value': '227.94', 'Expiry_Date': '2020/08/11', 'Reorder_Time_In_Days': '21', 'Quantity_In_Reorder': '22'}\n",
      "{'_id': ObjectId('5e5773b57d30b905cc522ef5'), 'Item_No': 'A038', 'Food_Item': 'Mr Min Lavender Multi Surface Cleaner', 'Category': 'Household & Cleaning', 'Size': '400ml', 'Price': '49.99', 'Stock_Quantity': '41', 'Stock_Value': '2049.59', 'Expiry_Date': '2020/10/09', 'Reorder_Time_In_Days': '43', 'Quantity_In_Reorder': '7'}\n",
      "{'_id': ObjectId('5e5773b57d30b905cc522ef4'), 'Item_No': 'A037', 'Food_Item': 'Omo Auto Washing Powder', 'Category': 'Household & Cleaning', 'Size': '2Kg', 'Price': '61.99', 'Stock_Quantity': '33', 'Stock_Value': '2045.67', 'Expiry_Date': '2021/03/27', 'Reorder_Time_In_Days': '37', 'Quantity_In_Reorder': '12'}\n",
      "{'_id': ObjectId('5e5773b57d30b905cc522ef3'), 'Item_No': 'A036', 'Food_Item': 'Handy Andy Lemon Fresh Cream Detergent', 'Category': 'Household & Cleaning', 'Size': '750ml', 'Price': '25.99', 'Stock_Quantity': '17', 'Stock_Value': '441.83', 'Expiry_Date': '2021/02/19', 'Reorder_Time_In_Days': '35', 'Quantity_In_Reorder': '16'}\n",
      "{'_id': ObjectId('5e5773b57d30b905cc522ef2'), 'Item_No': 'A035', 'Food_Item': 'Domestos Lavender Blast Thick Bleach', 'Category': 'Household & Cleaning', 'Size': '750ml', 'Price': '29.99', 'Stock_Quantity': '19', 'Stock_Value': '569.81', 'Expiry_Date': '2020/07/07', 'Reorder_Time_In_Days': '28', 'Quantity_In_Reorder': '28'}\n",
      "{'_id': ObjectId('5e5773b57d30b905cc522ef1'), 'Item_No': 'A034', 'Food_Item': 'Sunlight Original Dishwashing Liquid ', 'Category': 'Household & Cleaning', 'Size': '750ml', 'Price': '29.99', 'Stock_Quantity': '41', 'Stock_Value': '1229.59', 'Expiry_Date': '2021/06/12', 'Reorder_Time_In_Days': '10', 'Quantity_In_Reorder': '49'}\n",
      "{'_id': ObjectId('5e5773b57d30b905cc522ef0'), 'Item_No': 'A033', 'Food_Item': \"Kellogg's Corn Flakes\", 'Category': 'Breakfast Cereals & Bars', 'Size': '1Kg', 'Price': '62.99', 'Stock_Quantity': '51', 'Stock_Value': '3212.49', 'Expiry_Date': '2021/01/01', 'Reorder_Time_In_Days': '14', 'Quantity_In_Reorder': '70'}\n",
      "{'_id': ObjectId('5e5773b57d30b905cc522eef'), 'Item_No': 'A032', 'Food_Item': \"Kellogg's Rice Krispies\", 'Category': 'Breakfast Cereals & Bars', 'Size': '400g', 'Price': '39.99', 'Stock_Quantity': '48', 'Stock_Value': '1919.52', 'Expiry_Date': '2020/11/22', 'Reorder_Time_In_Days': '14', 'Quantity_In_Reorder': '51'}\n",
      "{'_id': ObjectId('5e5773b57d30b905cc522eee'), 'Item_No': 'A031', 'Food_Item': \"Kellogg's Corn Flakes\", 'Category': 'Breakfast Cereals & Bars', 'Size': '500g', 'Price': '35.99', 'Stock_Quantity': '45', 'Stock_Value': '1619.55', 'Expiry_Date': '2020/08/04', 'Reorder_Time_In_Days': '12', 'Quantity_In_Reorder': '57'}\n",
      "{'_id': ObjectId('5e5773b57d30b905cc522eed'), 'Item_No': 'A030', 'Food_Item': \"Kellogg's Coco Pops\", 'Category': 'Breakfast Cereals & Bars', 'Size': '350g', 'Price': '39.99', 'Stock_Quantity': '31', 'Stock_Value': '1239.69', 'Expiry_Date': '2020/05/10', 'Reorder_Time_In_Days': '15', 'Quantity_In_Reorder': '33'}\n",
      "{'_id': ObjectId('5e5773b57d30b905cc522eec'), 'Item_No': 'A029', 'Food_Item': 'Bokomo Weet-Bix', 'Category': 'Breakfast Cereals & Bars', 'Size': '450g', 'Price': '24.99', 'Stock_Quantity': '28', 'Stock_Value': '699.72', 'Expiry_Date': '2021/01/23', 'Reorder_Time_In_Days': '33', 'Quantity_In_Reorder': '42'}\n",
      "{'_id': ObjectId('5e5773b57d30b905cc522eeb'), 'Item_No': 'A028', 'Food_Item': 'Jungle Oats', 'Category': 'Breakfast Cereals & Bars', 'Size': '1Kg', 'Price': '34.99', 'Stock_Quantity': '14', 'Stock_Value': '489.86', 'Expiry_Date': '2020/10/15', 'Reorder_Time_In_Days': '23', 'Quantity_In_Reorder': '24'}\n",
      "{'_id': ObjectId('5e5773b57d30b905cc522eea'), 'Item_No': 'A027', 'Food_Item': 'Oreo Original', 'Category': '\"Biscuits', 'Size': ' Rusks & Crackers\"', 'Price': '16Pk', 'Stock_Quantity': '19.99', 'Stock_Value': '8', 'Expiry_Date': '159.92', 'Reorder_Time_In_Days': '2020/08/16', 'Quantity_In_Reorder': '18'}\n",
      "{'_id': ObjectId('5e5773b57d30b905cc522ee9'), 'Item_No': 'A026', 'Food_Item': 'Bakers Original Romany Creams', 'Category': '\"Biscuits', 'Size': ' Rusks & Crackers\"', 'Price': '200g', 'Stock_Quantity': '25.99', 'Stock_Value': '12', 'Expiry_Date': '311.88', 'Reorder_Time_In_Days': '2020/03/29', 'Quantity_In_Reorder': '11'}\n",
      "{'_id': ObjectId('5e5773b57d30b905cc522ee8'), 'Item_No': 'A025', 'Food_Item': 'Bakers Provita Wholewheat Crispbread 4s', 'Category': '\"Biscuits', 'Size': ' Rusks & Crackers\"', 'Price': '125g', 'Stock_Quantity': '42.99', 'Stock_Value': '30', 'Expiry_Date': '1289.7', 'Reorder_Time_In_Days': '2020/06/08', 'Quantity_In_Reorder': '9'}\n",
      "{'_id': ObjectId('5e5773b57d30b905cc522ee7'), 'Item_No': 'A024', 'Food_Item': 'Bakers Salticrax ', 'Category': '\"Biscuits', 'Size': ' Rusks & Crackers\"', 'Price': '200g', 'Stock_Quantity': '23.99', 'Stock_Value': '4', 'Expiry_Date': '95.96', 'Reorder_Time_In_Days': '2020/07/19', 'Quantity_In_Reorder': '3'}\n",
      "{'_id': ObjectId('5e5773b57d30b905cc522ee6'), 'Item_No': 'A023', 'Food_Item': 'Tastic Basmati Rice', 'Category': '\"Pasta', 'Size': ' Rice & Grains\"', 'Price': '2Kg', 'Stock_Quantity': '109.99', 'Stock_Value': '31', 'Expiry_Date': '3409.69', 'Reorder_Time_In_Days': '2021/04/17', 'Quantity_In_Reorder': '31'}\n",
      "{'_id': ObjectId('5e5773b57d30b905cc522ee5'), 'Item_No': 'A022', 'Food_Item': 'Tastic Rice', 'Category': '\"Pasta', 'Size': ' Rice & Grains\"', 'Price': '2Kg', 'Stock_Quantity': '29.99', 'Stock_Value': '75', 'Expiry_Date': '2249.25', 'Reorder_Time_In_Days': '2020/09/02', 'Quantity_In_Reorder': '22'}\n",
      "{'_id': ObjectId('5e5773b57d30b905cc522ee4'), 'Item_No': 'A021', 'Food_Item': 'Koo Peach Slices in Syrup', 'Category': '\"Cans', 'Size': ' Jars & Packaged Foods\"', 'Price': '410g', 'Stock_Quantity': '17.99', 'Stock_Value': '38', 'Expiry_Date': '683.62', 'Reorder_Time_In_Days': '2021/03/30', 'Quantity_In_Reorder': '25'}\n",
      "{'_id': ObjectId('5e5773b57d30b905cc522ee3'), 'Item_No': 'A020', 'Food_Item': 'Koo Whole Kernel Corn in Brine', 'Category': '\"Cans', 'Size': ' Jars & Packaged Foods\"', 'Price': '410g', 'Stock_Quantity': '17.99', 'Stock_Value': '40', 'Expiry_Date': '719.6', 'Reorder_Time_In_Days': '2021/02/11', 'Quantity_In_Reorder': '14'}\n",
      "{'_id': ObjectId('5e5773b57d30b905cc522ee2'), 'Item_No': 'A019', 'Food_Item': 'Koo Baked Beans', 'Category': '\"Cans', 'Size': ' Jars & Packaged Foods\"', 'Price': '410g', 'Stock_Quantity': '11.99', 'Stock_Value': '55', 'Expiry_Date': '659.45', 'Reorder_Time_In_Days': '2021/01/27', 'Quantity_In_Reorder': '12'}\n",
      "{'_id': ObjectId('5e5773b57d30b905cc522ee1'), 'Item_No': 'A018', 'Food_Item': 'Cerebos Iodated Table Salt', 'Category': 'Herbs & Spices', 'Size': '500g', 'Price': '19.99', 'Stock_Quantity': '35', 'Stock_Value': '699.65', 'Expiry_Date': '2020/10/06', 'Reorder_Time_In_Days': '7', 'Quantity_In_Reorder': '38'}\n",
      "{'_id': ObjectId('5e5773b57d30b905cc522ee0'), 'Item_No': 'A017', 'Food_Item': \"Cook 'n Bake Original Non-Stick Cooking Spray\", 'Category': 'Oils & Vinegars', 'Size': '300ml', 'Price': '42.99', 'Stock_Quantity': '9', 'Stock_Value': '386.91', 'Expiry_Date': '2021/03/14', 'Reorder_Time_In_Days': '15', 'Quantity_In_Reorder': '27'}\n",
      "{'_id': ObjectId('5e5773b57d30b905cc522edf'), 'Item_No': 'A016', 'Food_Item': 'Wellingtons Sweet Chilli Sauce', 'Category': 'Sauces', 'Size': '700ml', 'Price': '43.99', 'Stock_Quantity': '18', 'Stock_Value': '791.82', 'Expiry_Date': '2020/05/26', 'Reorder_Time_In_Days': '11', 'Quantity_In_Reorder': '19'}\n",
      "{'_id': ObjectId('5e5773b57d30b905cc522ede'), 'Item_No': 'A015', 'Food_Item': \"Hellmann's Original Mayonnaise\", 'Category': 'Sauces', 'Size': '394g', 'Price': '29.99', 'Stock_Quantity': '10', 'Stock_Value': '299.9', 'Expiry_Date': '2020/06/15', 'Reorder_Time_In_Days': '8', 'Quantity_In_Reorder': '15'}\n",
      "{'_id': ObjectId('5e5773b57d30b905cc522edd'), 'Item_No': 'A014', 'Food_Item': \"Mrs H.S.Ball's Original Chutney\", 'Category': 'Sauces', 'Size': '470g', 'Price': '29.99', 'Stock_Quantity': '21', 'Stock_Value': '629.79', 'Expiry_Date': '2020/10/21', 'Reorder_Time_In_Days': '21', 'Quantity_In_Reorder': '43'}\n",
      "{'_id': ObjectId('5e5773b57d30b905cc522edc'), 'Item_No': 'A013', 'Food_Item': 'Nestle Nesquik Chocolate Flavoured Drink ', 'Category': 'Beverages', 'Size': '500g', 'Price': '46.99', 'Stock_Quantity': '5', 'Stock_Value': '234.95', 'Expiry_Date': '2020/12/18', 'Reorder_Time_In_Days': '68', 'Quantity_In_Reorder': '22'}\n",
      "{'_id': ObjectId('5e5773b57d30b905cc522edb'), 'Item_No': 'A012', 'Food_Item': 'Nestle Hot Chocolate', 'Category': 'Coffee', 'Size': '500g', 'Price': '59.99', 'Stock_Quantity': '13', 'Stock_Value': '779.87', 'Expiry_Date': '2020/08/04', 'Reorder_Time_In_Days': '42', 'Quantity_In_Reorder': '30'}\n",
      "{'_id': ObjectId('5e5773b57d30b905cc522eda'), 'Item_No': 'A011', 'Food_Item': 'Nescafe Gold Cappuccino Sachets', 'Category': 'Coffee', 'Size': '18g', 'Price': '49.99', 'Stock_Quantity': '25', 'Stock_Value': '1249.75', 'Expiry_Date': '2021/03/08', 'Reorder_Time_In_Days': '55', 'Quantity_In_Reorder': '70'}\n",
      "{'_id': ObjectId('5e5773b57d30b905cc522ed9'), 'Item_No': 'A010', 'Food_Item': 'Crosse & Blackwell Mayonnaise', 'Category': 'Sauces', 'Size': '750g', 'Price': '33.99', 'Stock_Quantity': '4', 'Stock_Value': '135.96', 'Expiry_Date': '2020/07/08', 'Reorder_Time_In_Days': '3', 'Quantity_In_Reorder': '125'}\n",
      "{'_id': ObjectId('5e5773b57d30b905cc522ed8'), 'Item_No': 'A009', 'Food_Item': 'All Gold Tomato Sauce', 'Category': 'Sauces', 'Size': '700ml', 'Price': '30.99', 'Stock_Quantity': '2', 'Stock_Value': '61.98', 'Expiry_Date': '2020/12/25', 'Reorder_Time_In_Days': '7', 'Quantity_In_Reorder': '250'}\n",
      "{'_id': ObjectId('5e5773b57d30b905cc522ed7'), 'Item_No': 'A008', 'Food_Item': 'Jacobs Kronung Instant Coffee', 'Category': 'Coffee', 'Size': '200g', 'Price': '109.99', 'Stock_Quantity': '15', 'Stock_Value': '1649.85', 'Expiry_Date': '2020/10/11', 'Reorder_Time_In_Days': '46', 'Quantity_In_Reorder': '100'}\n",
      "{'_id': ObjectId('5e5773b57d30b905cc522ed6'), 'Item_No': 'A007', 'Food_Item': 'Nescafe Gold Roasted Coffee', 'Category': 'Coffee', 'Size': '200g', 'Price': '109.99', 'Stock_Quantity': '12', 'Stock_Value': '1319.88', 'Expiry_Date': '2021/02/18', 'Reorder_Time_In_Days': '61', 'Quantity_In_Reorder': '100'}\n",
      "{'_id': ObjectId('5e5773b57d30b905cc522ed5'), 'Item_No': 'A006', 'Food_Item': 'Nestle Quality Street Chocolates', 'Category': 'Chocolates', 'Size': '500g', 'Price': '99.99', 'Stock_Quantity': '6', 'Stock_Value': '599.94', 'Expiry_Date': '2020/04/28', 'Reorder_Time_In_Days': '61', 'Quantity_In_Reorder': '50'}\n",
      "{'_id': ObjectId('5e5773b57d30b905cc522ed4'), 'Item_No': 'A005', 'Food_Item': 'Cadbury Dairy Milk Chocolate Slab', 'Category': 'Chocolates', 'Size': '80g', 'Price': '15.99', 'Stock_Quantity': '19', 'Stock_Value': '303.81', 'Expiry_Date': '2020/06/03', 'Reorder_Time_In_Days': '14', 'Quantity_In_Reorder': '85'}\n",
      "{'_id': ObjectId('5e5773b57d30b905cc522ed3'), 'Item_No': 'A004', 'Food_Item': '\"Fanta Orange Bottle', 'Category': 'Beverages\"', 'Size': '2L', 'Price': '2L', 'Stock_Quantity': '22.49', 'Stock_Value': '4', 'Expiry_Date': '89.96', 'Reorder_Time_In_Days': '2020/09/13', 'Quantity_In_Reorder': '5'}\n",
      "{'_id': ObjectId('5e5773b57d30b905cc522ed2'), 'Item_No': 'A003', 'Food_Item': 'Coca-Cola Original Bottle', 'Category': 'Beverages', 'Size': '2L', 'Price': '22.49', 'Stock_Quantity': '6', 'Stock_Value': '134.94', 'Expiry_Date': '2020/09/05', 'Reorder_Time_In_Days': '10', 'Quantity_In_Reorder': '200'}\n",
      "{'_id': ObjectId('5e5773b57d30b905cc522ed1'), 'Item_No': 'A002', 'Food_Item': 'Lays Salted Potato Chips', 'Category': 'Snacks', 'Size': '125g', 'Price': '19.49', 'Stock_Quantity': '11', 'Stock_Value': '214.39', 'Expiry_Date': '2020/11/22', 'Reorder_Time_In_Days': '53', 'Quantity_In_Reorder': '125'}\n",
      "{'_id': ObjectId('5e5773b57d30b905cc522ef8'), 'Item_No': '', 'Food_Item': None, 'Category': None, 'Size': None, 'Price': None, 'Stock_Quantity': None, 'Stock_Value': None, 'Expiry_Date': None, 'Reorder_Time_In_Days': None, 'Quantity_In_Reorder': None}\n"
     ]
    }
   ],
   "source": [
    "# 5. implemented a descending sort to my data in MongoDB\n",
    "\n",
    "import json\n",
    "import pymongo\n",
    "import pandas as pd\n",
    "\n",
    "myclient = pymongo.MongoClient(\"mongodb://localhost:27017/\")\n",
    "mydb = myclient[\"data_tracker\"]\n",
    "mycol = mydb[\"food_table\"]\n",
    "mydoc = mycol.find().sort(\"Item_No\", -1)\n",
    "for x in mydoc:\n",
    "    print(x)"
   ]
  },
  {
   "cell_type": "code",
   "execution_count": null,
   "metadata": {},
   "outputs": [],
   "source": [
    "# 6. Delete 2 brands from my collection of top 3 products\n",
    "\n",
    "# First brand:\n",
    "\n",
    "import json\n",
    "import pymongo\n",
    "import pandas as pd\n",
    "myclient = pymongo.MongoClient(\"mongodb://localhost:27017/\")\n",
    "mydb = myclient[\"data_tracker\"]\n",
    "mycol = mydb[\"most_sold\"]\n",
    "myquery = { \"Item_No\": \"A041\" }\n",
    "mycol.delete_one(myquery)\n",
    "\n",
    "for x in mycol.find():\n",
    "    print(x)"
   ]
  },
  {
   "cell_type": "code",
   "execution_count": 9,
   "metadata": {},
   "outputs": [
    {
     "name": "stdout",
     "output_type": "stream",
     "text": [
      "{'_id': ObjectId('5e5785456c0bb3323c5b5aac'), 'Item_No': 'A004', 'Food_Item': 'Fanta Orange Bottle', 'Category': 'Beverages', 'Size': '2L', 'Price': 22.49, 'Stock_Quantity': 4, 'Stock_Value': 89.96, 'Expiry_Date': '2020/09/13', 'Reorder_Time_In_Days': 5, 'Quantity_In_Reorder': 185}\n",
      "{'_id': ObjectId('5e5785456c0bb3323c5b5aad'), 'Item_No': 'A009', 'Food_Item': 'All Gold Tomato Sauce', 'Category': 'Sauces', 'Size': '700ml', 'Price': 30.99, 'Stock_Quantity': 2, 'Stock_Value': 61.98, 'Expiry_Date': '2020/12/25', 'Reorder_Time_In_Days': 7, 'Quantity_In_Reorder': 250}\n",
      "{'_id': ObjectId('5e5785456c0bb3323c5b5aae'), 'Item_No': 'A010', 'Food_Item': 'Crosse & Blackwell Mayonnaise', 'Category': 'Sauces', 'Size': '750g', 'Price': 33.99, 'Stock_Quantity': 4, 'Stock_Value': 135.96, 'Expiry_Date': '2020/07/08', 'Reorder_Time_In_Days': 3, 'Quantity_In_Reorder': 125}\n"
     ]
    }
   ],
   "source": [
    "# Second brand:\n",
    "\n",
    "import json\n",
    "import pymongo\n",
    "import pandas as pd\n",
    "\n",
    "myclient = pymongo.MongoClient(\"mongodb://localhost:27017/\")\n",
    "mydb = myclient[\"data_tracker\"]\n",
    "mycol = mydb[\"most_sold\"]\n",
    "myquery = { \"Item_No\": \"A042\" }\n",
    "mycol.delete_one(myquery)\n",
    "\n",
    "for x in mycol.find():\n",
    "    print(x)"
   ]
  },
  {
   "cell_type": "code",
   "execution_count": 7,
   "metadata": {},
   "outputs": [
    {
     "name": "stdout",
     "output_type": "stream",
     "text": [
      "{'_id': ObjectId('5e58c1a46c0bb332b4c49cdc'), 'Item_No': 'A004', 'Food_Item': 'Fanta Orange Bottle', 'Category': 'Beverages', 'Size': '2L', 'Price': 22.99, 'Stock_Quantity': 4, 'Stock_Value': 89.96, 'Expiry_Date': '2020/09/13', 'Reorder_Time_In_Days': 5, 'Quantity_In_Reorder': 185}\n",
      "{'_id': ObjectId('5e58c1a46c0bb332b4c49cdd'), 'Item_No': 'A009', 'Food_Item': 'All Gold Tomato Sauce', 'Category': 'Sauces', 'Size': '700ml', 'Price': 30.99, 'Stock_Quantity': 2, 'Stock_Value': 61.98, 'Expiry_Date': '2020/12/25', 'Reorder_Time_In_Days': 7, 'Quantity_In_Reorder': 250}\n",
      "{'_id': ObjectId('5e58c1a46c0bb332b4c49cde'), 'Item_No': 'A010', 'Food_Item': 'Crosse & Blackwell Mayonnaise', 'Category': 'Sauces', 'Size': '750g', 'Price': 33.99, 'Stock_Quantity': 4, 'Stock_Value': 135.96, 'Expiry_Date': '2020/07/08', 'Reorder_Time_In_Days': 3, 'Quantity_In_Reorder': 125}\n"
     ]
    }
   ],
   "source": [
    "# 7.1 Updated 1 product from my collection I created in question 3\n",
    "\n",
    "import json\n",
    "import pymongo\n",
    "import pandas as pd\n",
    "\n",
    "myclient = pymongo.MongoClient(\"mongodb://localhost:27017/\")\n",
    "mydb = myclient[\"data_tracker\"]\n",
    "mycol = mydb[\"most_sold\"]\n",
    "myquery = { \"Price\": 22.49 }\n",
    "newvalues = {\"$set\": {\"Price\": 22.99}}\n",
    "mycol.update_one(myquery, newvalues)\n",
    "\n",
    "for x in mycol.find():\n",
    "    print(x)"
   ]
  },
  {
   "cell_type": "code",
   "execution_count": 8,
   "metadata": {},
   "outputs": [
    {
     "name": "stdout",
     "output_type": "stream",
     "text": [
      "{'_id': ObjectId('5e58c1a46c0bb332b4c49cdc'), 'Item_No': 'A004', 'Food_Item': 'Fanta Orange Bottle', 'Category': 'Beverages', 'Size': '2L', 'Price': 22.49, 'Stock_Quantity': 4, 'Stock_Value': 89.96, 'Expiry_Date': '2020/09/13', 'Reorder_Time_In_Days': 5, 'Quantity_In_Reorder': 185}\n",
      "{'_id': ObjectId('5e58c1a46c0bb332b4c49cdd'), 'Item_No': 'A009', 'Food_Item': 'All Gold Tomato Sauce', 'Category': 'Sauces', 'Size': '700ml', 'Price': 30.99, 'Stock_Quantity': 2, 'Stock_Value': 61.98, 'Expiry_Date': '2020/12/25', 'Reorder_Time_In_Days': 7, 'Quantity_In_Reorder': 250}\n",
      "{'_id': ObjectId('5e58c1a46c0bb332b4c49cde'), 'Item_No': 'A010', 'Food_Item': 'Crosse & Blackwell Mayonnaise', 'Category': 'Sauces', 'Size': '750g', 'Price': 33.99, 'Stock_Quantity': 4, 'Stock_Value': 135.96, 'Expiry_Date': '2020/07/08', 'Reorder_Time_In_Days': 3, 'Quantity_In_Reorder': 125}\n"
     ]
    }
   ],
   "source": [
    "# 7.2 returning updated product to original price\n",
    "\n",
    "import json\n",
    "import pymongo\n",
    "import pandas as pd\n",
    "\n",
    "myclient = pymongo.MongoClient(\"mongodb://localhost:27017/\")\n",
    "mydb = myclient[\"data_tracker\"]\n",
    "mycol = mydb[\"most_sold\"]\n",
    "myquery = { \"Price\": 22.99 }\n",
    "newvalues = {\"$set\": {\"Price\": 22.49}}\n",
    "mycol.update_one(myquery, newvalues)\n",
    "\n",
    "for x in mycol.find():\n",
    "    print(x)"
   ]
  },
  {
   "cell_type": "code",
   "execution_count": 10,
   "metadata": {},
   "outputs": [
    {
     "name": "stdout",
     "output_type": "stream",
     "text": [
      "{'_id': ObjectId('5e5773b57d30b905cc522ed1'), 'Item_No': 'A002', 'Food_Item': 'Lays Salted Potato Chips', 'Category': 'Snacks', 'Size': '125g', 'Price': '19.49', 'Stock_Quantity': '11', 'Stock_Value': '214.39', 'Expiry_Date': '2020/11/22', 'Reorder_Time_In_Days': '53', 'Quantity_In_Reorder': '125'}\n",
      "{'_id': ObjectId('5e5773b57d30b905cc522ed6'), 'Item_No': 'A007', 'Food_Item': 'Nescafe Gold Roasted Coffee', 'Category': 'Coffee', 'Size': '200g', 'Price': '109.99', 'Stock_Quantity': '12', 'Stock_Value': '1319.88', 'Expiry_Date': '2021/02/18', 'Reorder_Time_In_Days': '61', 'Quantity_In_Reorder': '100'}\n",
      "{'_id': ObjectId('5e5773b57d30b905cc522ede'), 'Item_No': 'A015', 'Food_Item': \"Hellmann's Original Mayonnaise\", 'Category': 'Sauces', 'Size': '394g', 'Price': '29.99', 'Stock_Quantity': '10', 'Stock_Value': '299.9', 'Expiry_Date': '2020/06/15', 'Reorder_Time_In_Days': '8', 'Quantity_In_Reorder': '15'}\n",
      "{'_id': ObjectId('5e5773b57d30b905cc522ee2'), 'Item_No': 'A019', 'Food_Item': 'Koo Baked Beans', 'Category': '\"Cans', 'Size': ' Jars & Packaged Foods\"', 'Price': '410g', 'Stock_Quantity': '11.99', 'Stock_Value': '55', 'Expiry_Date': '659.45', 'Reorder_Time_In_Days': '2021/01/27', 'Quantity_In_Reorder': '12'}\n",
      "{'_id': ObjectId('5e5773b57d30b905cc522ee6'), 'Item_No': 'A023', 'Food_Item': 'Tastic Basmati Rice', 'Category': '\"Pasta', 'Size': ' Rice & Grains\"', 'Price': '2Kg', 'Stock_Quantity': '109.99', 'Stock_Value': '31', 'Expiry_Date': '3409.69', 'Reorder_Time_In_Days': '2021/04/17', 'Quantity_In_Reorder': '31'}\n"
     ]
    }
   ],
   "source": [
    "# 8. Filtered for the least 5 brands in my products based on stock quantity\n",
    "\n",
    "import json\n",
    "import pymongo\n",
    "import pandas as pd\n",
    "\n",
    "myclient = pymongo.MongoClient(\"mongodb://localhost:27017/\")\n",
    "mydb = myclient[\"data_tracker\"]\n",
    "mycol = mydb[\"food_table\"]\n",
    "myquery = ({\"Stock_Quantity\": { '$lte': '12' }}) #$lte less than equal\n",
    "mydoc = mycol.find(myquery)\n",
    "\n",
    "for x in mydoc:\n",
    "    print(x)"
   ]
  },
  {
   "cell_type": "code",
   "execution_count": null,
   "metadata": {},
   "outputs": [],
   "source": []
  }
 ],
 "metadata": {
  "kernelspec": {
   "display_name": "Python 3",
   "language": "python",
   "name": "python3"
  },
  "language_info": {
   "codemirror_mode": {
    "name": "ipython",
    "version": 3
   },
   "file_extension": ".py",
   "mimetype": "text/x-python",
   "name": "python",
   "nbconvert_exporter": "python",
   "pygments_lexer": "ipython3",
   "version": "3.7.4"
  }
 },
 "nbformat": 4,
 "nbformat_minor": 2
}
